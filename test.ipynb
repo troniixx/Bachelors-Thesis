{
 "cells": [
  {
   "cell_type": "markdown",
   "id": "d3a21c79",
   "metadata": {},
   "source": [
    "# This file is only for playing around!"
   ]
  },
  {
   "cell_type": "code",
   "execution_count": 1,
   "id": "4eb0900d",
   "metadata": {},
   "outputs": [],
   "source": [
    "import argparse\n",
    "import os\n",
    "import re\n",
    "import sys\n",
    "import json\n",
    "from typing import List, Tuple, Optional\n",
    "\n",
    "import numpy as np\n",
    "import pandas as pd"
   ]
  },
  {
   "cell_type": "code",
   "execution_count": 4,
   "id": "c39cb2a7",
   "metadata": {},
   "outputs": [
    {
     "data": {
      "application/vnd.microsoft.datawrangler.viewer.v0+json": {
       "columns": [
        {
         "name": "index",
         "rawType": "int64",
         "type": "integer"
        },
        {
         "name": "text",
         "rawType": "object",
         "type": "string"
        },
        {
         "name": "sender",
         "rawType": "object",
         "type": "string"
        },
        {
         "name": "target",
         "rawType": "int64",
         "type": "integer"
        }
       ],
       "ref": "3a6edfb3-8791-4782-86dc-efcb58635953",
       "rows": [
        [
         "0",
         "From ilug-admin@linux.ie Mon Jul 29 11:28:02 2002 Return-Path: <ilug-admin@linux.ie> Delivered-To: yyyy@localhost.netnoteinc.com Received: from localhost (localhost [127.0.0.1]) by phobos.labs.netnoteinc.com (Postfix) with ESMTP id A13D94414F for <jm@localhost>; Mon, 29 Jul 2002 06:25:11 -0400 (EDT) Received: from phobos [127.0.0.1] by localhost with IMAP (fetchmail-5.9.0) for jm@localhost (single-drop); Mon, 29 Jul 2002 11:25:11 +0100 (IST) Received: from lugh.tuatha.org (root@lugh.tuatha.org [194.125.145.45]) by dogma.slashnull.org (8.11.6/8.11.6) with ESMTP id g6RHn7i17130 for <jm-ilug@jmason.org>; Sat, 27 Jul 2002 18:49:07 +0100 Received: from lugh (root@localhost [127.0.0.1]) by lugh.tuatha.org (8.9.3/8.9.3) with ESMTP id SAA25016; Sat, 27 Jul 2002 18:45:03 +0100 X-Authentication-Warning: lugh.tuatha.org: Host root@localhost [127.0.0.1] claimed to be lugh Received: from mail1.mail.iol.ie (mail1.mail.iol.ie [194.125.2.192]) by lugh.tuatha.org (8.9.3/8.9.3) with ESMTP id SAA24977 for <ilug@linux.ie>; Sat, 27 Jul 2002 18:44:56 +0100 Received: from dialup125-a.ts551.cwt.esat.net ([193.203.140.125] helo=Hobbiton.cod.ie) by mail1.mail.iol.ie with esmtp (Exim 3.35 #1) id 17YVVF-0001W4-00 for ilug@linux.ie; Sat, 27 Jul 2002 18:37:18 +0100 Received: (from cdaly@localhost) by Hobbiton.cod.ie (8.11.6/8.9.3) id g6RDRoO04681 for ilug@linux.ie; Sat, 27 Jul 2002 14:27:50 +0100 Date: Sat, 27 Jul 2002 14:27:49 +0100 From: Conor Daly <conor.daly@oceanfree.net> To: ILUG main list <ilug@linux.ie> Subject: Re: [ILUG] Architecture crossover trouble w RH7.2 (solved) Message-Id: <20020727142749.B4438@Hobbiton.cod.ie> Mail-Followup-To: ILUG main list <ilug@linux.ie> References: <0D443C91DCE9CD40B1C795BA222A729E018854FA@milexc01.maxtor.com> MIME-Version: 1.0 Content-Type: text/plain; charset=us-ascii Content-Disposition: inline User-Agent: Mutt/1.2.5i In-Reply-To: <0D443C91DCE9CD40B1C795BA222A729E018854FA@milexc01.maxtor.com>; from conor_wynne@maxtor.com on Fri, Jul 26, 2002 at 03:56:22PM +0100 Sender: ilug-admin@linux.ie Errors-To: ilug-admin@linux.ie X-Mailman-Version: 1.1 Precedence: bulk List-Id: Irish Linux Users' Group <ilug.linux.ie> X-Beenthere: ilug@linux.ie On Fri, Jul 26, 2002 at 03:56:22PM +0100 or so it is rumoured hereabouts, Wynne, Conor thought: > Surely it would be faster to save you conf files, install it on the box > again, copy back you confs and voila. > All you car about are the confs as the boite has no DATA right? Yeah, but then I'd have to remember _exactly_ which confs I'd modified and they're not all in /etc either... > Thats what I would do, but you sysadmins have to make life as difficult & > complicated as possible ;--) Yup... In this case, I had two issues. 1. I mirrored the disk to give to someone else to work on but the box he has available has only a P1 or P2 processor. 2. My celeron box has been crashing the backup software so I wanted to try out the backup in a different box to make sure it's hardware related. Again, it's also an interesting exercise... > Have you thought about mirroring the system drives? Might save you serious > hassle down the line. Oh, I'm doing that too. This is going to Africa so I'm aiming for as robust as possible with belt, braces and probably an all-in-one jumpsuit! I'll be mirroring the disk but that is worth only so much (eg. lightning strike taking out the disk(s) or system compromise) I'm also going for a backup to CDR with an automated restore http://www.mondorescue.org . The admin out there wouldn't be able to build the system again if the mobo got fried and the replacement was the wrong arch but an i386 compatible install will mean just dropping in the HD and booting (ish)... Conor -- Conor Daly <conor.daly@oceanfree.net> Domestic Sysadmin :-) --------------------- Faenor.cod.ie 2:32pm up 64 days, 23:49, 0 users, load average: 0.00, 0.00, 0.00 Hobbiton.cod.ie 2:19pm up 7 days, 20:56, 1 user, load average: 0.05, 0.02, 0.00 -- Irish Linux Users' Group: ilug@linux.ie http://www.linux.ie/mailman/listinfo/ilug for (un)subscription information. List maintainer: listmaster@linux.ie",
         "ilug-admin@linux.ie",
         "0"
        ],
        [
         "1",
         "From gort44@excite.com Mon Jun 24 17:54:21 2002 Return-Path: gort44@excite.com Delivery-Date: Tue Jun 4 05:31:16 2002 Received: from mandark.labs.netnoteinc.com ([213.105.180.140]) by dogma.slashnull.org (8.11.6/8.11.6) with ESMTP id g544VFO20182 for <jm@jmason.org>; Tue, 4 Jun 2002 05:31:15 +0100 Received: from wi-poli.poli.cl ([200.54.149.34]) by mandark.labs.netnoteinc.com (8.11.2/8.11.2) with SMTP id g544VC729935; Tue, 4 Jun 2002 05:31:13 +0100 Received: from 216.77.61.89 (unverified [218.5.180.148]) by wi-poli.poli.cl (EMWAC SMTPRS 0.83) with SMTP id <B0000918901@wi-poli.poli.cl>; Tue, 04 Jun 2002 00:14:29 -0400 Message-Id: <B0000918901@wi-poli.poli.cl> To: <chrbader@telecom.at> From: \"irese\" <gort44@excite.com> Subject: Cash in on your home equity Date: Tue, 04 Jun 2002 00:18:34 -1600 MIME-Version: 1.0 Content-Type: text/plain; charset=\"Windows-1252\" X-Keywords: Content-Transfer-Encoding: 7bit Mortgage Lenders & Brokers Are Ready to compete for your business. Whether a new home loan is what you seek or to refinance your current home loan at a lower interest rate, we can help! Mortgage rates haven't been this low in years take action now! Refinance your home with us and include all of those pesky credit card bills or use the extra cash for that pool you've always wanted... Where others say NO, we say YES!!! Even if you have been turned down elsewhere, we can help! Easy terms! Our mortgage referral service combines the highest quality loans with the most economical rates and the easiest qualifications! Take just 2 minutes to complete the following form. There is no obligation, all information is kept strictly confidential, and you must be at least 18 years of age. Service is available within the United States only. This service is fast and free. Free information request form: PLEASE VISIT http://builtit4unow.com/pos **************************************************************** Since you have received this message you have either responded to one of our offers in the past or your address has been registered with us. If you wish to \"OPT_OUT\" please visit: http://builtit4unow.com/pos ****************************************************************",
         "gort44@excite.com",
         "1"
        ],
        [
         "2",
         "From fork-admin@xent.com Mon Jul 29 11:39:57 2002 Return-Path: <fork-admin@xent.com> Delivered-To: yyyy@localhost.netnoteinc.com Received: from localhost (localhost [127.0.0.1]) by phobos.labs.netnoteinc.com (Postfix) with ESMTP id 0F3F544165 for <jm@localhost>; Mon, 29 Jul 2002 06:34:20 -0400 (EDT) Received: from phobos [127.0.0.1] by localhost with IMAP (fetchmail-5.9.0) for jm@localhost (single-drop); Mon, 29 Jul 2002 11:34:20 +0100 (IST) Received: from webnote.net (mail.webnote.net [193.120.211.219]) by dogma.slashnull.org (8.11.6/8.11.6) with ESMTP id g6RAEOi18890 for <jm@JMASON.ORG>; Sat, 27 Jul 2002 11:14:24 +0100 Received: from xent.com ([64.161.22.236]) by webnote.net (8.9.3/8.9.3) with ESMTP id EAA15163 for <jm@jmason.org>; Sat, 27 Jul 2002 04:01:07 +0100 Received: from lair.xent.com (localhost [127.0.0.1]) by xent.com (Postfix) with ESMTP id 6B8432940A3; Fri, 26 Jul 2002 20:00:08 -0700 (PDT) Delivered-To: fork@spamassassin.taint.org Received: from bolehmail.com (unknown [61.241.232.250]) by xent.com (Postfix) with SMTP id 6EBF629409B; Fri, 26 Jul 2002 19:59:17 -0700 (PDT) Received: from unknown (HELO f64.law4.hottestmale.com) (76.28.45.69) by f64.law4.hottestmale.com with asmtp; 26 Jul 0102 15:08:45 -0500 Received: from unknown (71.24.157.182) by rly-yk04.aolmd.com with local; 26 Jul 0102 10:07:54 +0200 Received: from unknown (HELO smtp013.mail.yahou.com) (143.180.211.131) by rly-yk04.aolmd.com with asmtp; Fri, 26 Jul 0102 12:07:03 +1200 Received: from 46.67.186.19 ([46.67.186.19]) by q4.quickslow.com with asmtp; Sat, 27 Jul 0102 00:06:12 +0300 Reply-To: <5447q67@bolehmail.com> Message-Id: <026a52b71b5e$3662d2e5$0cb01ad7@idrpqw> From: <5447q67@bolehmail.com> To: <fork-request@xent.com>, <fork@spamassassin.taint.org> Subject: Are Your Mortgage Rates The Best They Can Be........ 0922LkVT8-113rFxd3342c-21 MIME-Version: 1.0 Content-Type: text/plain; charset=\"us-ascii\" X-Priority: 3 (Normal) X-Msmail-Priority: Normal X-Mailer: Microsoft Outlook Express 5.50.4522.1200 Importance: Normal Sender: fork-admin@xent.com Errors-To: fork-admin@xent.com X-Beenthere: fork@spamassassin.taint.org X-Mailman-Version: 2.0.11 Precedence: bulk List-Help: <mailto:fork-request@xent.com?subject=help> List-Post: <mailto:fork@spamassassin.taint.org> List-Subscribe: <http://xent.com/mailman/listinfo/fork>, <mailto:fork-request@xent.com?subject=subscribe> List-Id: Friends of Rohit Khare <fork.xent.com> List-Unsubscribe: <http://xent.com/mailman/listinfo/fork>, <mailto:fork-request@xent.com?subject=unsubscribe> List-Archive: <http://xent.com/pipermail/fork/> Date: Fri, 26 Jul 0102 18:03:12 +0900 Content-Transfer-Encoding: 8bit Dear Homeowner, Interest Rates are at their lowest point in 40 years! We help you find the best rate for your situation by matching your needs with hundreds of lenders! Home Improvement, Refinance, Second Mortgage, Home Equity Loans, and much, much more! You're eligible even with less than perfect credit! This service is 100% FREE to home owners and new home buyers without any obligation. Where others say NO, we say YES!!! http://www243.wiildaccess.com Take just 2 minutes to complete the following form. There is no obligation, all information is kept strictly confidential, and you must be at least 18 years of age. Service is available within the United States only. This service is fast and free. http://www243.wiildaccess.com +++++++++++++++++++++++++++++++++++++++++++++++++++++++++++++++ To opt out: http://www243.wiildaccess.com/optout.html 8960ryoE6-752DjSn8958wQDd4-522UPqi8940xzrR4-094LKl46 http://xent.com/mailman/listinfo/fork",
         "fork-admin@xent.com",
         "1"
        ],
        [
         "3",
         "From dcm123@btamail.net.cn Mon Jun 24 17:49:23 2002 Return-Path: dcm123@btamail.net.cn Delivery-Date: Mon Jun 10 04:13:11 2002 Received: from mandark.labs.netnoteinc.com ([213.105.180.140]) by dogma.slashnull.org (8.11.6/8.11.6) with ESMTP id g5A3D8G20808 for <jm@jmason.org>; Mon, 10 Jun 2002 04:13:09 +0100 Received: from tktweb.tktpower.com ([211.90.75.85]) by mandark.labs.netnoteinc.com (8.11.6/8.11.2) with ESMTP id g5A3D6m28913 for <jm@netnoteinc.com>; Mon, 10 Jun 2002 04:13:07 +0100 Message-Id: <200206100313.g5A3D6m28913@mandark.labs.netnoteinc.com> Received: from smtp0115.mail.yahoo.com (dsl-200-67-46-59.prodigy.net.mx [200.67.46.59]) by tktweb.tktpower.com with SMTP (Microsoft Exchange Internet Mail Service Version 5.5.1960.3) id MLV1LZAY; Thu, 6 Jun 2002 12:29:36 +0800 Date: Wed, 5 Jun 2002 21:17:22 -0700 From: \"Rudy Chan\"<dcm123@btamail.net.cn> X-Priority: 3 To: shandatch@netnoir.net Cc: tazzie6813@netnoir.net, troby@netnoir.net, vivranthang@netnoir.net, jm@netnoteinc.com, michael@netnv.net, rich@netnv.net, beam@neto.com, bgarrett@neto.com Subject: Online Approval for $5000 Now MIME-Version: 1.0 X-Keywords: Content-Type: text/html; charset=us-ascii Content-Transfer-Encoding: 7bit <HTML><HEAD><TITLE>Free Card Search</TITLE> <META HTTP-EQUIV=\"Content-Type\" CONTENT=\"text/html; charset=iso-8859-1\"> </HEAD><BODY BGCOLOR=\"#000000\"><div align=\"center\"> <a href=\"http://mbf.%61%66%66%69%6c%69%61%74%65%6e%65%74%74%2e%63%6f%6d/fcard/\"> <IMG SRC=\"http://mbf.%61%66%66%69%6c%69%61%74%65%6e%65%74%74%2e%63%6f%6d/fcard/ad/new_fcard.jpg\" WIDTH=523 HEIGHT=373 border=\"0\"></a> </div><TABLE WIDTH=523 BORDER=0 CELLPADDING=0 CELLSPACING=0 align=\"center\"> <TR><td colspan=7 align=left><br><font color=\"white\" size=\"1\" face=\"arial\"> Sincerely,<BR><B>Your New Offers Staff</B><BR></FONT> <FONT SIZE=\"-2\"><A HREF=\"mailto:montage@btamail.net.cn?subject=Remove\">Remove</A></FONT> </td></tr></TABLE></BODY></HTML>",
         "dcm123@btamail.net.cn",
         "1"
        ],
        [
         "4",
         "From ilug-admin@linux.ie Mon Aug 19 11:02:47 2002 Return-Path: <ilug-admin@linux.ie> Delivered-To: yyyy@localhost.netnoteinc.com Received: from localhost (localhost [127.0.0.1]) by phobos.labs.netnoteinc.com (Postfix) with ESMTP id CB0FC44196 for <jm@localhost>; Mon, 19 Aug 2002 05:54:24 -0400 (EDT) Received: from phobos [127.0.0.1] by localhost with IMAP (fetchmail-5.9.0) for jm@localhost (single-drop); Mon, 19 Aug 2002 10:54:24 +0100 (IST) Received: from lugh.tuatha.org (root@lugh.tuatha.org [194.125.145.45]) by dogma.slashnull.org (8.11.6/8.11.6) with ESMTP id g7HL8j610834 for <jm-ilug@jmason.org>; Sat, 17 Aug 2002 22:08:45 +0100 Received: from lugh (root@localhost [127.0.0.1]) by lugh.tuatha.org (8.9.3/8.9.3) with ESMTP id WAA08700; Sat, 17 Aug 2002 22:07:20 +0100 Received: from hawk.dcu.ie (mail.dcu.ie [136.206.1.5]) by lugh.tuatha.org (8.9.3/8.9.3) with ESMTP id WAA08664 for <ilug@linux.ie>; Sat, 17 Aug 2002 22:07:12 +0100 X-Authentication-Warning: lugh.tuatha.org: Host mail.dcu.ie [136.206.1.5] claimed to be hawk.dcu.ie Received: from prodigy.redbrick.dcu.ie (136.206.15.10) by hawk.dcu.ie (6.0.040) id 3D36BB4A000AD875 for ilug@linux.ie; Sat, 17 Aug 2002 22:07:12 +0100 Received: by prodigy.redbrick.dcu.ie (Postfix, from userid 1023) id 97F48DA4A; Sat, 17 Aug 2002 22:07:11 +0100 (IST) Date: Sat, 17 Aug 2002 22:07:11 +0100 From: Philip Reynolds <phil@redbrick.dcu.ie> To: ilug@linux.ie Subject: Re: [ILUG] expanding a string multiple times Message-Id: <20020817220711.H29114@prodigy.Redbrick.DCU.IE> References: <3D5D27B9.9080009@corvil.com> <20020817100644.GA29167@chewie.compsoc.com> MIME-Version: 1.0 Content-Type: text/plain; charset=us-ascii Content-Disposition: inline User-Agent: Mutt/1.2.5i In-Reply-To: <20020817100644.GA29167@chewie.compsoc.com>; from kor@compsoc.com on Sat, Aug 17, 2002 at 11:06:44AM +0100 Sender: ilug-admin@linux.ie Errors-To: ilug-admin@linux.ie X-Mailman-Version: 1.1 Precedence: bulk List-Id: Irish Linux Users' Group <ilug.linux.ie> X-Beenthere: ilug@linux.ie Kevin O' Riordan's [kor@compsoc.com] 30 lines of wisdom included: > > On Pungenday, the 9th day of Bureaucracy, Padraig Brady confessed: > > How can I repeat a string an arbitrary number > > of times in bash/sed/... > > > > I.E. I'm missing the repeat in the following: > > > > STRING=\"> \" > > NUMBER=3 > > PREFIX=repeat $STRING $NUMBER > > echo $PREFIX > > > > > > > > perl ? > > STRING=\"> \" > NUMBER=3 > PREFIX=`perl -e \"print '$STRING' x $NUMBER;\"` > echo $PREFIX > > I'm pretty sure the bsd 'jot' utility can do this too, but I don't > have it to hand. I didn't think that jot was installed on Linux systems by default, so from the tone of Padraigs mail that's not what he wanted, however, if I'm incorrect (don't have a Linux system to hand) the following is the syntax. jot -b \"string\" 3 Phil. -- Philip Reynolds RFC Networks tel: 01 8832063 www.rfc-networks.ie fax: 01 8832041 -- Irish Linux Users' Group: ilug@linux.ie http://www.linux.ie/mailman/listinfo/ilug for (un)subscription information. List maintainer: listmaster@linux.ie",
         "ilug-admin@linux.ie",
         "0"
        ]
       ],
       "shape": {
        "columns": 3,
        "rows": 5
       }
      },
      "text/html": [
       "<div>\n",
       "<style scoped>\n",
       "    .dataframe tbody tr th:only-of-type {\n",
       "        vertical-align: middle;\n",
       "    }\n",
       "\n",
       "    .dataframe tbody tr th {\n",
       "        vertical-align: top;\n",
       "    }\n",
       "\n",
       "    .dataframe thead th {\n",
       "        text-align: right;\n",
       "    }\n",
       "</style>\n",
       "<table border=\"1\" class=\"dataframe\">\n",
       "  <thead>\n",
       "    <tr style=\"text-align: right;\">\n",
       "      <th></th>\n",
       "      <th>text</th>\n",
       "      <th>sender</th>\n",
       "      <th>target</th>\n",
       "    </tr>\n",
       "  </thead>\n",
       "  <tbody>\n",
       "    <tr>\n",
       "      <th>0</th>\n",
       "      <td>From ilug-admin@linux.ie Mon Jul 29 11:28:02 2...</td>\n",
       "      <td>ilug-admin@linux.ie</td>\n",
       "      <td>0</td>\n",
       "    </tr>\n",
       "    <tr>\n",
       "      <th>1</th>\n",
       "      <td>From gort44@excite.com Mon Jun 24 17:54:21 200...</td>\n",
       "      <td>gort44@excite.com</td>\n",
       "      <td>1</td>\n",
       "    </tr>\n",
       "    <tr>\n",
       "      <th>2</th>\n",
       "      <td>From fork-admin@xent.com Mon Jul 29 11:39:57 2...</td>\n",
       "      <td>fork-admin@xent.com</td>\n",
       "      <td>1</td>\n",
       "    </tr>\n",
       "    <tr>\n",
       "      <th>3</th>\n",
       "      <td>From dcm123@btamail.net.cn Mon Jun 24 17:49:23...</td>\n",
       "      <td>dcm123@btamail.net.cn</td>\n",
       "      <td>1</td>\n",
       "    </tr>\n",
       "    <tr>\n",
       "      <th>4</th>\n",
       "      <td>From ilug-admin@linux.ie Mon Aug 19 11:02:47 2...</td>\n",
       "      <td>ilug-admin@linux.ie</td>\n",
       "      <td>0</td>\n",
       "    </tr>\n",
       "  </tbody>\n",
       "</table>\n",
       "</div>"
      ],
      "text/plain": [
       "                                                text                 sender  \\\n",
       "0  From ilug-admin@linux.ie Mon Jul 29 11:28:02 2...    ilug-admin@linux.ie   \n",
       "1  From gort44@excite.com Mon Jun 24 17:54:21 200...      gort44@excite.com   \n",
       "2  From fork-admin@xent.com Mon Jul 29 11:39:57 2...    fork-admin@xent.com   \n",
       "3  From dcm123@btamail.net.cn Mon Jun 24 17:49:23...  dcm123@btamail.net.cn   \n",
       "4  From ilug-admin@linux.ie Mon Aug 19 11:02:47 2...    ilug-admin@linux.ie   \n",
       "\n",
       "   target  \n",
       "0       0  \n",
       "1       1  \n",
       "2       1  \n",
       "3       1  \n",
       "4       0  "
      ]
     },
     "execution_count": 4,
     "metadata": {},
     "output_type": "execute_result"
    }
   ],
   "source": [
    "df = pd.read_csv(\"/Users/merterol/Desktop/UZH/CompLing:CompSci/CL/Sem 5/Bachelors Thesis/VSCode/Bachelors-Thesis/data/spam_assassin_cleaned.csv\")\n",
    "df.head()"
   ]
  },
  {
   "cell_type": "code",
   "execution_count": 2,
   "id": "c24566fa",
   "metadata": {},
   "outputs": [],
   "source": [
    "from sklearn.model_selection import train_test_split\n",
    "from sklearn.feature_extraction.text import TfidfVectorizer\n",
    "from sklearn.linear_model import LogisticRegression\n",
    "from sklearn.ensemble import GradientBoostingClassifier\n",
    "from sklearn.naive_bayes import MultinomialNB\n",
    "from sklearn.ensemble import RandomForestClassifier\n",
    "from sklearn.pipeline import Pipeline\n",
    "from sklearn.metrics import (\n",
    "accuracy_score, precision_recall_fscore_support,\n",
    "roc_auc_score, classification_report, confusion_matrix\n",
    ")\n",
    "from sklearn.calibration import CalibratedClassifierCV\n",
    "from xgboost import XGBClassifier\n",
    "from lightgbm import LGBMClassifier\n",
    "\n",
    "\n",
    "from imblearn.under_sampling import RandomUnderSampler"
   ]
  },
  {
   "cell_type": "code",
   "execution_count": 3,
   "id": "e9b0dbbc",
   "metadata": {},
   "outputs": [
    {
     "name": "stderr",
     "output_type": "stream",
     "text": [
      "/Library/Frameworks/Python.framework/Versions/3.13/lib/python3.13/site-packages/tqdm/auto.py:21: TqdmWarning: IProgress not found. Please update jupyter and ipywidgets. See https://ipywidgets.readthedocs.io/en/stable/user_install.html\n",
      "  from .autonotebook import tqdm as notebook_tqdm\n"
     ]
    }
   ],
   "source": [
    "try:\n",
    "    import shap # type: ignore\n",
    "except Exception:\n",
    "    shap = None\n",
    "\n",
    "\n",
    "try:\n",
    "    from lime.lime_text import LimeTextExplainer # type: ignore\n",
    "except Exception:\n",
    "    LimeTextExplainer = None\n",
    "\n",
    "\n",
    "import matplotlib.pyplot as plt\n",
    "from email import policy\n",
    "from email.parser import BytesParser\n",
    "\n",
    "\n",
    "RANDOM_STATE = 42"
   ]
  },
  {
   "cell_type": "code",
   "execution_count": 4,
   "id": "1e4360d6",
   "metadata": {},
   "outputs": [],
   "source": [
    "base = pd.read_csv(\"/Users/merterol/Desktop/Thesis Code/data/baseline_spam-ham.csv\")\n",
    "assassin = pd.read_csv(\"/Users/merterol/Desktop/Thesis Code/data/spam_assassin.csv\")\n",
    "zen = pd.read_csv(\"/Users/merterol/Desktop/Thesis Code/data/zenodo.csv\")"
   ]
  },
  {
   "cell_type": "code",
   "execution_count": 5,
   "id": "18514dbf",
   "metadata": {},
   "outputs": [
    {
     "name": "stdout",
     "output_type": "stream",
     "text": [
      "                                              sender  \\\n",
      "0                   Young Esposito <Young@iworld.de>   \n",
      "1                       Mok <ipline's1983@icable.ph>   \n",
      "2  Daily Top 10 <Karmandeep-opengevl@universalnet...   \n",
      "3                 Michael Parker <ivqrnai@pobox.com>   \n",
      "4  Gretchen Suggs <externalsep1@loanofficertool.com>   \n",
      "\n",
      "                                         receiver  \\\n",
      "0                     user4@gvc.ceas-challenge.cc   \n",
      "1                   user2.2@gvc.ceas-challenge.cc   \n",
      "2                   user2.9@gvc.ceas-challenge.cc   \n",
      "3  SpamAssassin Dev <xrh@spamassassin.apache.org>   \n",
      "4                   user2.2@gvc.ceas-challenge.cc   \n",
      "\n",
      "                              date  \\\n",
      "0  Tue, 05 Aug 2008 16:31:02 -0700   \n",
      "1  Tue, 05 Aug 2008 18:31:03 -0500   \n",
      "2  Tue, 05 Aug 2008 20:28:00 -1200   \n",
      "3  Tue, 05 Aug 2008 17:31:20 -0600   \n",
      "4  Tue, 05 Aug 2008 19:31:21 -0400   \n",
      "\n",
      "                                             subject  \\\n",
      "0                          Never agree to be a loser   \n",
      "1                             Befriend Jenna Jameson   \n",
      "2                               CNN.com Daily Top 10   \n",
      "3  Re: svn commit: r619753 - in /spamassassin/tru...   \n",
      "4                         SpecialPricesPharmMoreinfo   \n",
      "\n",
      "                                                body  label  urls  \n",
      "0  Buck up, your troubles caused by small dimensi...      1     1  \n",
      "1  \\nUpgrade your sex and pleasures with these te...      1     1  \n",
      "2  >+=+=+=+=+=+=+=+=+=+=+=+=+=+=+=+=+=+=+=+=+=+=+...      1     1  \n",
      "3  Would anyone object to removing .so from this ...      0     1  \n",
      "4  \\nWelcomeFastShippingCustomerSupport\\nhttp://7...      1     1  \n",
      "sender        0\n",
      "receiver    462\n",
      "date          0\n",
      "subject      28\n",
      "body          0\n",
      "label         0\n",
      "urls          0\n",
      "dtype: int64\n"
     ]
    }
   ],
   "source": [
    "print(zen.head())\n",
    "print(zen.isna().sum())\n",
    "\n",
    "# get rid of nan values\n",
    "zen = zen.dropna()"
   ]
  },
  {
   "cell_type": "markdown",
   "id": "29e32e38",
   "metadata": {},
   "source": [
    "# Naive Bayes"
   ]
  },
  {
   "cell_type": "code",
   "execution_count": 6,
   "id": "cafe8550",
   "metadata": {},
   "outputs": [
    {
     "name": "stdout",
     "output_type": "stream",
     "text": [
      "Naive Bayes Classification Report:\n",
      "              precision    recall  f1-score   support\n",
      "\n",
      "           0       0.99      1.00      0.99      3368\n",
      "           1       1.00      0.99      0.99      4366\n",
      "\n",
      "    accuracy                           0.99      7734\n",
      "   macro avg       0.99      0.99      0.99      7734\n",
      "weighted avg       0.99      0.99      0.99      7734\n",
      "\n",
      "Confusion Matrix:\n",
      "[[3361    7]\n",
      " [  37 4329]]\n",
      "ROC AUC Score: 0.9997\n",
      "ROC AUC Score: 0.9996975114330886\n"
     ]
    }
   ],
   "source": [
    "# train naive bayes (had to combine sender, receiver, subject and body into a single text feature)\n",
    "\n",
    "for col in [\"sender\", \"receiver\", \"subject\", \"body\"]:\n",
    "    if col not in zen.columns:\n",
    "        zen[col] = \"\"\n",
    "\n",
    "combo = zen[\"sender\"] + \" \" + zen[\"receiver\"] + \" \" + zen[\"date\"] + \" \" + zen[\"subject\"] + \" \" + zen[\"body\"].astype(str)\n",
    "\n",
    "target = zen.label.astype(int)\n",
    "predictors = combo\n",
    "\n",
    "X_train, X_test, y_train, y_test = train_test_split(\n",
    "    predictors, target, test_size=0.2, random_state=RANDOM_STATE, stratify=target\n",
    ")\n",
    "\n",
    "nb_pipeline = Pipeline([\n",
    "    ('tfidf', TfidfVectorizer(\n",
    "        lowercase=True,\n",
    "        strip_accents='unicode',\n",
    "        ngram_range=(1,2),\n",
    "        min_df=2\n",
    "    )),\n",
    "    ('clf', MultinomialNB())\n",
    "])\n",
    "\n",
    "nb_pipeline.fit(X_train, y_train)\n",
    "y_pred_nb = nb_pipeline.predict(X_test)\n",
    "y_proba_nb = nb_pipeline.predict_proba(X_test)[:, 1]\n",
    "\n",
    "print(\"Naive Bayes Classification Report:\")\n",
    "print(classification_report(y_test, y_pred_nb))\n",
    "print(\"Confusion Matrix:\")\n",
    "print(confusion_matrix(y_test, y_pred_nb))\n",
    "print(f\"ROC AUC Score: {roc_auc_score(y_test, y_proba_nb):.4f}\")\n",
    "print(f\"ROC AUC Score: {roc_auc_score(y_test, y_proba_nb)}\")\n"
   ]
  },
  {
   "cell_type": "code",
   "execution_count": 7,
   "id": "62f0949a",
   "metadata": {},
   "outputs": [
    {
     "name": "stdout",
     "output_type": "stream",
     "text": [
      "                                                text  target\n",
      "0  From ilug-admin@linux.ie Mon Jul 29 11:28:02 2...       0\n",
      "1  From gort44@excite.com Mon Jun 24 17:54:21 200...       1\n",
      "2  From fork-admin@xent.com Mon Jul 29 11:39:57 2...       1\n",
      "3  From dcm123@btamail.net.cn Mon Jun 24 17:49:23...       1\n",
      "4  From ilug-admin@linux.ie Mon Aug 19 11:02:47 2...       0\n",
      "text      0\n",
      "target    0\n",
      "dtype: int64\n",
      "              precision    recall  f1-score   support\n",
      "\n",
      "           0       0.69      1.00      0.82      3900\n",
      "           1       1.00      0.08      0.14      1896\n",
      "\n",
      "    accuracy                           0.70      5796\n",
      "   macro avg       0.85      0.54      0.48      5796\n",
      "weighted avg       0.79      0.70      0.60      5796\n",
      "\n"
     ]
    }
   ],
   "source": [
    "# further test on assassin dataset\n",
    "print(assassin.head())\n",
    "print(assassin.isna().sum())\n",
    "assassin = assassin.dropna()\n",
    "\n",
    "# use as second test set on the same model\n",
    "print(classification_report(assassin['target'], nb_pipeline.predict(assassin['text'])))"
   ]
  },
  {
   "cell_type": "markdown",
   "id": "8784082d",
   "metadata": {},
   "source": [
    "# Logistic Regression"
   ]
  },
  {
   "cell_type": "code",
   "execution_count": 8,
   "id": "9603c66f",
   "metadata": {},
   "outputs": [
    {
     "name": "stderr",
     "output_type": "stream",
     "text": [
      "/Library/Frameworks/Python.framework/Versions/3.13/lib/python3.13/site-packages/sklearn/linear_model/_linear_loss.py:209: RuntimeWarning: divide by zero encountered in matmul\n",
      "  norm2_w = weights @ weights if weights.ndim == 1 else squared_norm(weights)\n",
      "/Library/Frameworks/Python.framework/Versions/3.13/lib/python3.13/site-packages/sklearn/linear_model/_linear_loss.py:209: RuntimeWarning: overflow encountered in matmul\n",
      "  norm2_w = weights @ weights if weights.ndim == 1 else squared_norm(weights)\n",
      "/Library/Frameworks/Python.framework/Versions/3.13/lib/python3.13/site-packages/sklearn/linear_model/_linear_loss.py:209: RuntimeWarning: invalid value encountered in matmul\n",
      "  norm2_w = weights @ weights if weights.ndim == 1 else squared_norm(weights)\n"
     ]
    },
    {
     "name": "stdout",
     "output_type": "stream",
     "text": [
      "Logistic Regression Classification Report:\n",
      "              precision    recall  f1-score   support\n",
      "\n",
      "           0       0.99      0.99      0.99      3368\n",
      "           1       1.00      1.00      1.00      4366\n",
      "\n",
      "    accuracy                           1.00      7734\n",
      "   macro avg       1.00      1.00      1.00      7734\n",
      "weighted avg       1.00      1.00      1.00      7734\n",
      "\n",
      "Confusion Matrix:\n",
      "[[3350   18]\n",
      " [  19 4347]]\n",
      "ROC AUC Score: 0.9996\n",
      "ROC AUC Score: 0.9996148847224776\n"
     ]
    }
   ],
   "source": [
    "lr_pipeline = Pipeline([\n",
    "    ('tfidf', TfidfVectorizer(\n",
    "        lowercase=True,\n",
    "        strip_accents='unicode',\n",
    "        ngram_range=(1,2),\n",
    "        min_df=2\n",
    "    )),\n",
    "    ('clf', LogisticRegression(max_iter=1000, random_state=RANDOM_STATE))\n",
    "])\n",
    "\n",
    "lr_pipeline.fit(X_train, y_train)\n",
    "y_pred_lr = lr_pipeline.predict(X_test)\n",
    "y_proba_lr = lr_pipeline.predict_proba(X_test)[:, 1]\n",
    "\n",
    "print(\"Logistic Regression Classification Report:\")\n",
    "print(classification_report(y_test, y_pred_lr))\n",
    "print(\"Confusion Matrix:\")\n",
    "print(confusion_matrix(y_test, y_pred_lr))\n",
    "print(f\"ROC AUC Score: {roc_auc_score(y_test, y_proba_lr):.4f}\")\n",
    "print(f\"ROC AUC Score: {roc_auc_score(y_test, y_proba_lr)}\")"
   ]
  },
  {
   "cell_type": "code",
   "execution_count": 9,
   "id": "706fb349",
   "metadata": {},
   "outputs": [
    {
     "name": "stdout",
     "output_type": "stream",
     "text": [
      "              precision    recall  f1-score   support\n",
      "\n",
      "           0       0.68      1.00      0.81      3900\n",
      "           1       1.00      0.01      0.02      1896\n",
      "\n",
      "    accuracy                           0.68      5796\n",
      "   macro avg       0.84      0.51      0.41      5796\n",
      "weighted avg       0.78      0.68      0.55      5796\n",
      "\n"
     ]
    }
   ],
   "source": [
    "print(classification_report(assassin['target'], lr_pipeline.predict(assassin['text'])))"
   ]
  },
  {
   "cell_type": "markdown",
   "id": "a043feed",
   "metadata": {},
   "source": [
    "### Summary LR & NB:\n",
    "\n",
    "in-domain works great but out-of-domain struggles alot --> trying feature engineering next"
   ]
  },
  {
   "cell_type": "markdown",
   "id": "efecb38a",
   "metadata": {},
   "source": [
    "### Adding top level domain screening"
   ]
  },
  {
   "cell_type": "code",
   "execution_count": 11,
   "id": "8f638cb7",
   "metadata": {},
   "outputs": [],
   "source": [
    "tld_info = pd.read_csv(\"/Users/merterol/Desktop/Thesis Code/data/Suspicious_TLDs_List.csv\")\n",
    "\n",
    "tld_risk = dict(zip(tld_info['metadata_tld'], tld_info['metadata_severity']))\n",
    "tld_categories = dict(zip(tld_info['metadata_tld'], tld_info['metadata_category']))"
   ]
  }
 ],
 "metadata": {
  "kernelspec": {
   "display_name": "Python 3",
   "language": "python",
   "name": "python3"
  },
  "language_info": {
   "codemirror_mode": {
    "name": "ipython",
    "version": 3
   },
   "file_extension": ".py",
   "mimetype": "text/x-python",
   "name": "python",
   "nbconvert_exporter": "python",
   "pygments_lexer": "ipython3",
   "version": "3.13.4"
  }
 },
 "nbformat": 4,
 "nbformat_minor": 5
}
