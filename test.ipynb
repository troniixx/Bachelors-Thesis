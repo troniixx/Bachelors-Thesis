{
 "cells": [
  {
   "cell_type": "markdown",
   "id": "d3a21c79",
   "metadata": {},
   "source": [
    "# This file is only for playing around!"
   ]
  },
  {
   "cell_type": "code",
   "execution_count": 1,
   "id": "4eb0900d",
   "metadata": {},
   "outputs": [],
   "source": [
    "import argparse\n",
    "import os\n",
    "import re\n",
    "import sys\n",
    "import json\n",
    "from typing import List, Tuple, Optional\n",
    "\n",
    "import numpy as np\n",
    "import pandas as pd"
   ]
  },
  {
   "cell_type": "code",
   "execution_count": 2,
   "id": "c24566fa",
   "metadata": {},
   "outputs": [],
   "source": [
    "from sklearn.model_selection import train_test_split\n",
    "from sklearn.feature_extraction.text import TfidfVectorizer\n",
    "from sklearn.linear_model import LogisticRegression\n",
    "from sklearn.ensemble import GradientBoostingClassifier\n",
    "from sklearn.naive_bayes import MultinomialNB\n",
    "from sklearn.ensemble import RandomForestClassifier\n",
    "from sklearn.pipeline import Pipeline\n",
    "from sklearn.metrics import (\n",
    "accuracy_score, precision_recall_fscore_support,\n",
    "roc_auc_score, classification_report, confusion_matrix\n",
    ")\n",
    "from sklearn.calibration import CalibratedClassifierCV\n",
    "from xgboost import XGBClassifier\n",
    "from lightgbm import LGBMClassifier\n",
    "\n",
    "\n",
    "from imblearn.under_sampling import RandomUnderSampler"
   ]
  },
  {
   "cell_type": "code",
   "execution_count": 3,
   "id": "e9b0dbbc",
   "metadata": {},
   "outputs": [
    {
     "name": "stderr",
     "output_type": "stream",
     "text": [
      "/Library/Frameworks/Python.framework/Versions/3.13/lib/python3.13/site-packages/tqdm/auto.py:21: TqdmWarning: IProgress not found. Please update jupyter and ipywidgets. See https://ipywidgets.readthedocs.io/en/stable/user_install.html\n",
      "  from .autonotebook import tqdm as notebook_tqdm\n"
     ]
    }
   ],
   "source": [
    "try:\n",
    "    import shap # type: ignore\n",
    "except Exception:\n",
    "    shap = None\n",
    "\n",
    "\n",
    "try:\n",
    "    from lime.lime_text import LimeTextExplainer # type: ignore\n",
    "except Exception:\n",
    "    LimeTextExplainer = None\n",
    "\n",
    "\n",
    "import matplotlib.pyplot as plt\n",
    "from email import policy\n",
    "from email.parser import BytesParser\n",
    "\n",
    "\n",
    "RANDOM_STATE = 42"
   ]
  },
  {
   "cell_type": "code",
   "execution_count": 4,
   "id": "1e4360d6",
   "metadata": {},
   "outputs": [],
   "source": [
    "base = pd.read_csv(\"/Users/merterol/Desktop/Thesis Code/data/baseline_spam-ham.csv\")\n",
    "assassin = pd.read_csv(\"/Users/merterol/Desktop/Thesis Code/data/spam_assassin.csv\")\n",
    "zen = pd.read_csv(\"/Users/merterol/Desktop/Thesis Code/data/zenodo.csv\")"
   ]
  },
  {
   "cell_type": "code",
   "execution_count": 5,
   "id": "18514dbf",
   "metadata": {},
   "outputs": [
    {
     "name": "stdout",
     "output_type": "stream",
     "text": [
      "                                              sender  \\\n",
      "0                   Young Esposito <Young@iworld.de>   \n",
      "1                       Mok <ipline's1983@icable.ph>   \n",
      "2  Daily Top 10 <Karmandeep-opengevl@universalnet...   \n",
      "3                 Michael Parker <ivqrnai@pobox.com>   \n",
      "4  Gretchen Suggs <externalsep1@loanofficertool.com>   \n",
      "\n",
      "                                         receiver  \\\n",
      "0                     user4@gvc.ceas-challenge.cc   \n",
      "1                   user2.2@gvc.ceas-challenge.cc   \n",
      "2                   user2.9@gvc.ceas-challenge.cc   \n",
      "3  SpamAssassin Dev <xrh@spamassassin.apache.org>   \n",
      "4                   user2.2@gvc.ceas-challenge.cc   \n",
      "\n",
      "                              date  \\\n",
      "0  Tue, 05 Aug 2008 16:31:02 -0700   \n",
      "1  Tue, 05 Aug 2008 18:31:03 -0500   \n",
      "2  Tue, 05 Aug 2008 20:28:00 -1200   \n",
      "3  Tue, 05 Aug 2008 17:31:20 -0600   \n",
      "4  Tue, 05 Aug 2008 19:31:21 -0400   \n",
      "\n",
      "                                             subject  \\\n",
      "0                          Never agree to be a loser   \n",
      "1                             Befriend Jenna Jameson   \n",
      "2                               CNN.com Daily Top 10   \n",
      "3  Re: svn commit: r619753 - in /spamassassin/tru...   \n",
      "4                         SpecialPricesPharmMoreinfo   \n",
      "\n",
      "                                                body  label  urls  \n",
      "0  Buck up, your troubles caused by small dimensi...      1     1  \n",
      "1  \\nUpgrade your sex and pleasures with these te...      1     1  \n",
      "2  >+=+=+=+=+=+=+=+=+=+=+=+=+=+=+=+=+=+=+=+=+=+=+...      1     1  \n",
      "3  Would anyone object to removing .so from this ...      0     1  \n",
      "4  \\nWelcomeFastShippingCustomerSupport\\nhttp://7...      1     1  \n",
      "sender        0\n",
      "receiver    462\n",
      "date          0\n",
      "subject      28\n",
      "body          0\n",
      "label         0\n",
      "urls          0\n",
      "dtype: int64\n"
     ]
    }
   ],
   "source": [
    "print(zen.head())\n",
    "print(zen.isna().sum())\n",
    "\n",
    "# get rid of nan values\n",
    "zen = zen.dropna()"
   ]
  },
  {
   "cell_type": "markdown",
   "id": "29e32e38",
   "metadata": {},
   "source": [
    "# Naive Bayes"
   ]
  },
  {
   "cell_type": "code",
   "execution_count": 6,
   "id": "cafe8550",
   "metadata": {},
   "outputs": [
    {
     "name": "stdout",
     "output_type": "stream",
     "text": [
      "Naive Bayes Classification Report:\n",
      "              precision    recall  f1-score   support\n",
      "\n",
      "           0       0.99      1.00      0.99      3368\n",
      "           1       1.00      0.99      0.99      4366\n",
      "\n",
      "    accuracy                           0.99      7734\n",
      "   macro avg       0.99      0.99      0.99      7734\n",
      "weighted avg       0.99      0.99      0.99      7734\n",
      "\n",
      "Confusion Matrix:\n",
      "[[3361    7]\n",
      " [  37 4329]]\n",
      "ROC AUC Score: 0.9997\n",
      "ROC AUC Score: 0.9996975114330886\n"
     ]
    }
   ],
   "source": [
    "# train naive bayes (had to combine sender, receiver, subject and body into a single text feature)\n",
    "\n",
    "for col in [\"sender\", \"receiver\", \"subject\", \"body\"]:\n",
    "    if col not in zen.columns:\n",
    "        zen[col] = \"\"\n",
    "\n",
    "combo = zen[\"sender\"] + \" \" + zen[\"receiver\"] + \" \" + zen[\"date\"] + \" \" + zen[\"subject\"] + \" \" + zen[\"body\"].astype(str)\n",
    "\n",
    "target = zen.label.astype(int)\n",
    "predictors = combo\n",
    "\n",
    "X_train, X_test, y_train, y_test = train_test_split(\n",
    "    predictors, target, test_size=0.2, random_state=RANDOM_STATE, stratify=target\n",
    ")\n",
    "\n",
    "nb_pipeline = Pipeline([\n",
    "    ('tfidf', TfidfVectorizer(\n",
    "        lowercase=True,\n",
    "        strip_accents='unicode',\n",
    "        ngram_range=(1,2),\n",
    "        min_df=2\n",
    "    )),\n",
    "    ('clf', MultinomialNB())\n",
    "])\n",
    "\n",
    "nb_pipeline.fit(X_train, y_train)\n",
    "y_pred_nb = nb_pipeline.predict(X_test)\n",
    "y_proba_nb = nb_pipeline.predict_proba(X_test)[:, 1]\n",
    "\n",
    "print(\"Naive Bayes Classification Report:\")\n",
    "print(classification_report(y_test, y_pred_nb))\n",
    "print(\"Confusion Matrix:\")\n",
    "print(confusion_matrix(y_test, y_pred_nb))\n",
    "print(f\"ROC AUC Score: {roc_auc_score(y_test, y_proba_nb):.4f}\")\n",
    "print(f\"ROC AUC Score: {roc_auc_score(y_test, y_proba_nb)}\")\n"
   ]
  },
  {
   "cell_type": "code",
   "execution_count": 7,
   "id": "62f0949a",
   "metadata": {},
   "outputs": [
    {
     "name": "stdout",
     "output_type": "stream",
     "text": [
      "                                                text  target\n",
      "0  From ilug-admin@linux.ie Mon Jul 29 11:28:02 2...       0\n",
      "1  From gort44@excite.com Mon Jun 24 17:54:21 200...       1\n",
      "2  From fork-admin@xent.com Mon Jul 29 11:39:57 2...       1\n",
      "3  From dcm123@btamail.net.cn Mon Jun 24 17:49:23...       1\n",
      "4  From ilug-admin@linux.ie Mon Aug 19 11:02:47 2...       0\n",
      "text      0\n",
      "target    0\n",
      "dtype: int64\n",
      "              precision    recall  f1-score   support\n",
      "\n",
      "           0       0.69      1.00      0.82      3900\n",
      "           1       1.00      0.08      0.14      1896\n",
      "\n",
      "    accuracy                           0.70      5796\n",
      "   macro avg       0.85      0.54      0.48      5796\n",
      "weighted avg       0.79      0.70      0.60      5796\n",
      "\n"
     ]
    }
   ],
   "source": [
    "# further test on assassin dataset\n",
    "print(assassin.head())\n",
    "print(assassin.isna().sum())\n",
    "assassin = assassin.dropna()\n",
    "\n",
    "# use as second test set on the same model\n",
    "print(classification_report(assassin['target'], nb_pipeline.predict(assassin['text'])))"
   ]
  },
  {
   "cell_type": "markdown",
   "id": "8784082d",
   "metadata": {},
   "source": [
    "# Logistic Regression"
   ]
  },
  {
   "cell_type": "code",
   "execution_count": 8,
   "id": "9603c66f",
   "metadata": {},
   "outputs": [
    {
     "name": "stderr",
     "output_type": "stream",
     "text": [
      "/Library/Frameworks/Python.framework/Versions/3.13/lib/python3.13/site-packages/sklearn/linear_model/_linear_loss.py:209: RuntimeWarning: divide by zero encountered in matmul\n",
      "  norm2_w = weights @ weights if weights.ndim == 1 else squared_norm(weights)\n",
      "/Library/Frameworks/Python.framework/Versions/3.13/lib/python3.13/site-packages/sklearn/linear_model/_linear_loss.py:209: RuntimeWarning: overflow encountered in matmul\n",
      "  norm2_w = weights @ weights if weights.ndim == 1 else squared_norm(weights)\n",
      "/Library/Frameworks/Python.framework/Versions/3.13/lib/python3.13/site-packages/sklearn/linear_model/_linear_loss.py:209: RuntimeWarning: invalid value encountered in matmul\n",
      "  norm2_w = weights @ weights if weights.ndim == 1 else squared_norm(weights)\n"
     ]
    },
    {
     "name": "stdout",
     "output_type": "stream",
     "text": [
      "Logistic Regression Classification Report:\n",
      "              precision    recall  f1-score   support\n",
      "\n",
      "           0       0.99      0.99      0.99      3368\n",
      "           1       1.00      1.00      1.00      4366\n",
      "\n",
      "    accuracy                           1.00      7734\n",
      "   macro avg       1.00      1.00      1.00      7734\n",
      "weighted avg       1.00      1.00      1.00      7734\n",
      "\n",
      "Confusion Matrix:\n",
      "[[3350   18]\n",
      " [  19 4347]]\n",
      "ROC AUC Score: 0.9996\n",
      "ROC AUC Score: 0.9996148847224776\n"
     ]
    }
   ],
   "source": [
    "lr_pipeline = Pipeline([\n",
    "    ('tfidf', TfidfVectorizer(\n",
    "        lowercase=True,\n",
    "        strip_accents='unicode',\n",
    "        ngram_range=(1,2),\n",
    "        min_df=2\n",
    "    )),\n",
    "    ('clf', LogisticRegression(max_iter=1000, random_state=RANDOM_STATE))\n",
    "])\n",
    "\n",
    "lr_pipeline.fit(X_train, y_train)\n",
    "y_pred_lr = lr_pipeline.predict(X_test)\n",
    "y_proba_lr = lr_pipeline.predict_proba(X_test)[:, 1]\n",
    "\n",
    "print(\"Logistic Regression Classification Report:\")\n",
    "print(classification_report(y_test, y_pred_lr))\n",
    "print(\"Confusion Matrix:\")\n",
    "print(confusion_matrix(y_test, y_pred_lr))\n",
    "print(f\"ROC AUC Score: {roc_auc_score(y_test, y_proba_lr):.4f}\")\n",
    "print(f\"ROC AUC Score: {roc_auc_score(y_test, y_proba_lr)}\")"
   ]
  },
  {
   "cell_type": "code",
   "execution_count": 9,
   "id": "706fb349",
   "metadata": {},
   "outputs": [
    {
     "name": "stdout",
     "output_type": "stream",
     "text": [
      "              precision    recall  f1-score   support\n",
      "\n",
      "           0       0.68      1.00      0.81      3900\n",
      "           1       1.00      0.01      0.02      1896\n",
      "\n",
      "    accuracy                           0.68      5796\n",
      "   macro avg       0.84      0.51      0.41      5796\n",
      "weighted avg       0.78      0.68      0.55      5796\n",
      "\n"
     ]
    }
   ],
   "source": [
    "print(classification_report(assassin['target'], lr_pipeline.predict(assassin['text'])))"
   ]
  },
  {
   "cell_type": "markdown",
   "id": "a043feed",
   "metadata": {},
   "source": [
    "### Summary LR & NB:\n",
    "\n",
    "in-domain works great but out-of-domain struggles alot --> trying feature engineering next"
   ]
  },
  {
   "cell_type": "markdown",
   "id": "efecb38a",
   "metadata": {},
   "source": [
    "### Adding top level domain screening"
   ]
  },
  {
   "cell_type": "code",
   "execution_count": 11,
   "id": "8f638cb7",
   "metadata": {},
   "outputs": [],
   "source": [
    "tld_info = pd.read_csv(\"/Users/merterol/Desktop/Thesis Code/data/Suspicious_TLDs_List.csv\")\n",
    "\n",
    "tld_risk = dict(zip(tld_info['metadata_tld'], tld_info['metadata_severity']))\n",
    "tld_categories = dict(zip(tld_info['metadata_tld'], tld_info['metadata_category']))"
   ]
  }
 ],
 "metadata": {
  "kernelspec": {
   "display_name": "Python 3",
   "language": "python",
   "name": "python3"
  },
  "language_info": {
   "codemirror_mode": {
    "name": "ipython",
    "version": 3
   },
   "file_extension": ".py",
   "mimetype": "text/x-python",
   "name": "python",
   "nbconvert_exporter": "python",
   "pygments_lexer": "ipython3",
   "version": "3.13.4"
  }
 },
 "nbformat": 4,
 "nbformat_minor": 5
}
